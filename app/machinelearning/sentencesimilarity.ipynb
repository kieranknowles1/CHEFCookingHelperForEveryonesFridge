{
 "cells": [
  {
   "cell_type": "code",
   "execution_count": 2,
   "metadata": {},
   "outputs": [
    {
     "name": "stderr",
     "output_type": "stream",
     "text": [
      "c:\\Python310\\lib\\site-packages\\tqdm\\auto.py:21: TqdmWarning: IProgress not found. Please update jupyter and ipywidgets. See https://ipywidgets.readthedocs.io/en/stable/user_install.html\n",
      "  from .autonotebook import tqdm as notebook_tqdm\n"
     ]
    }
   ],
   "source": [
    "from sentence_transformers import SentenceTransformer\n",
    "import numpy as np\n",
    "import torch"
   ]
  },
  {
   "cell_type": "code",
   "execution_count": 3,
   "metadata": {},
   "outputs": [],
   "source": [
    "# Download and initialize the model from https://huggingface.co/sentence-transformers/all-mpnet-base-v2\n",
    "model = SentenceTransformer(\"sentence-transformers/all-mpnet-base-v2\")"
   ]
  },
  {
   "cell_type": "code",
   "execution_count": 4,
   "metadata": {},
   "outputs": [
    {
     "name": "stdout",
     "output_type": "stream",
     "text": [
      "Pasta is a ['Dinner', 'Breakfast', 'Lunch', 'Desert'] food\n",
      "Spaghetti is a ['Dinner', 'Lunch', 'Breakfast', 'Desert'] food\n",
      "Rice is a ['Dinner', 'Breakfast', 'Lunch', 'Desert'] food\n",
      "Pizza is a ['Dinner', 'Lunch', 'Breakfast', 'Desert'] food\n",
      "Burger is a ['Dinner', 'Lunch', 'Breakfast', 'Desert'] food\n",
      "Sandwich is a ['Lunch', 'Breakfast', 'Dinner', 'Desert'] food\n",
      "Porridge is a ['Breakfast', 'Lunch', 'Desert', 'Dinner'] food\n",
      "Ice Cream is a ['Breakfast', 'Lunch', 'Desert', 'Dinner'] food\n",
      "Cake is a ['Breakfast', 'Lunch', 'Dinner', 'Desert'] food\n",
      "Ice cream sandwich is a ['Breakfast', 'Lunch', 'Dinner', 'Desert'] food\n",
      "Pop tart is a ['Breakfast', 'Lunch', 'Desert', 'Dinner'] food\n",
      "Pancake is a ['Breakfast', 'Dinner', 'Desert', 'Lunch'] food\n"
     ]
    }
   ],
   "source": [
    "# Test on some sentences\n",
    "foods = [\n",
    "    \"Pasta\",\n",
    "    \"Spaghetti\",\n",
    "    \"Rice\",\n",
    "    \"Pizza\",\n",
    "    \"Burger\",\n",
    "    \"Sandwich\",\n",
    "    \"Porridge\",\n",
    "    \"Ice Cream\",\n",
    "    \"Cake\",\n",
    "    \"Ice cream sandwich\",\n",
    "    \"Pop tart\",\n",
    "    \"Pancake\",\n",
    "]\n",
    "\n",
    "meals = [\n",
    "    \"Breakfast\",\n",
    "    \"Lunch\",\n",
    "    \"Dinner\",\n",
    "    \"Desert\",\n",
    "]\n",
    "meal_embeddings = model.encode(meals)\n",
    "\n",
    "def similarity(a: torch.Tensor, b: torch.Tensor):\n",
    "    return np.dot(a, b) / (np.linalg.norm(a) * np.linalg.norm(b))\n",
    "\n",
    "def food_meal_type(food: str):\n",
    "    # Get the embedding for this food\n",
    "    food_embedding = model.encode([food])[0]\n",
    "    # Get the similarity between the food and each meal type\n",
    "    similarities = [similarity(food_embedding, meal_embedding) for meal_embedding in meal_embeddings]\n",
    "    # Return meal types ordered by similarity\n",
    "    return [meal for _, meal in sorted(zip(similarities, meals), reverse=True)]\n",
    "\n",
    "for food in foods:\n",
    "    print(f\"{food} is a {food_meal_type(food)} food\")"
   ]
  },
  {
   "cell_type": "code",
   "execution_count": 7,
   "metadata": {},
   "outputs": [
    {
     "name": "stderr",
     "output_type": "stream",
     "text": [
      "2023-12-14 16:57:39.231670: I tensorflow/core/util/port.cc:113] oneDNN custom operations are on. You may see slightly different numerical results due to floating-point round-off errors from different computation orders. To turn them off, set the environment variable `TF_ENABLE_ONEDNN_OPTS=0`.\n",
      "WARNING:tensorflow:From C:\\Python310\\lib\\site-packages\\keras\\src\\losses.py:2976: The name tf.losses.sparse_softmax_cross_entropy is deprecated. Please use tf.compat.v1.losses.sparse_softmax_cross_entropy instead.\n",
      "\n",
      "WARNING:root:Failure to load the inference.so custom c++ tensorflow ops. This error is likely caused the version of TensorFlow and TensorFlow Decision Forests are not compatible. Full error:C:\\Python310\\lib\\site-packages\\tensorflow_decision_forests\\tensorflow\\ops\\inference\\inference.so not found\n",
      "Traceback (most recent call last):\n",
      "  File \"C:\\Python310\\lib\\runpy.py\", line 196, in _run_module_as_main\n",
      "    return _run_code(code, main_globals, None,\n",
      "  File \"C:\\Python310\\lib\\runpy.py\", line 86, in _run_code\n",
      "    exec(code, run_globals)\n",
      "  File \"C:\\Python310\\Scripts\\tensorflowjs_converter.exe\\__main__.py\", line 4, in <module>\n",
      "  File \"C:\\Python310\\lib\\site-packages\\tensorflowjs\\__init__.py\", line 21, in <module>\n",
      "    from tensorflowjs import converters\n",
      "  File \"C:\\Python310\\lib\\site-packages\\tensorflowjs\\converters\\__init__.py\", line 21, in <module>\n",
      "    from tensorflowjs.converters.converter import convert\n",
      "  File \"C:\\Python310\\lib\\site-packages\\tensorflowjs\\converters\\converter.py\", line 37, in <module>\n",
      "    from tensorflowjs.converters import tf_saved_model_conversion_v2\n",
      "  File \"C:\\Python310\\lib\\site-packages\\tensorflowjs\\converters\\tf_saved_model_conversion_v2.py\", line 28, in <module>\n",
      "    import tensorflow_decision_forests\n",
      "  File \"C:\\Python310\\lib\\site-packages\\tensorflow_decision_forests\\__init__.py\", line 64, in <module>\n",
      "    from tensorflow_decision_forests import keras\n",
      "  File \"C:\\Python310\\lib\\site-packages\\tensorflow_decision_forests\\keras\\__init__.py\", line 53, in <module>\n",
      "    from tensorflow_decision_forests.keras import core\n",
      "  File \"C:\\Python310\\lib\\site-packages\\tensorflow_decision_forests\\keras\\core.py\", line 62, in <module>\n",
      "    from tensorflow_decision_forests.keras import core_inference\n",
      "  File \"C:\\Python310\\lib\\site-packages\\tensorflow_decision_forests\\keras\\core_inference.py\", line 36, in <module>\n",
      "    from tensorflow_decision_forests.tensorflow.ops.inference import api as tf_op\n",
      "  File \"C:\\Python310\\lib\\site-packages\\tensorflow_decision_forests\\tensorflow\\ops\\inference\\api.py\", line 179, in <module>\n",
      "    from tensorflow_decision_forests.tensorflow.ops.inference import op\n",
      "  File \"C:\\Python310\\lib\\site-packages\\tensorflow_decision_forests\\tensorflow\\ops\\inference\\op.py\", line 15, in <module>\n",
      "    from tensorflow_decision_forests.tensorflow.ops.inference.op_dynamic import *\n",
      "  File \"C:\\Python310\\lib\\site-packages\\tensorflow_decision_forests\\tensorflow\\ops\\inference\\op_dynamic.py\", line 24, in <module>\n",
      "    raise e\n",
      "  File \"C:\\Python310\\lib\\site-packages\\tensorflow_decision_forests\\tensorflow\\ops\\inference\\op_dynamic.py\", line 21, in <module>\n",
      "    ops = tf.load_op_library(resource_loader.get_path_to_datafile(\"inference.so\"))\n",
      "  File \"C:\\Python310\\lib\\site-packages\\tensorflow\\python\\framework\\load_library.py\", line 54, in load_op_library\n",
      "    lib_handle = py_tf.TF_LoadLibrary(library_filename)\n",
      "tensorflow.python.framework.errors_impl.NotFoundError: C:\\Python310\\lib\\site-packages\\tensorflow_decision_forests\\tensorflow\\ops\\inference\\inference.so not found\n"
     ]
    }
   ],
   "source": [
    "# Save the model\n",
    "model.save(\"model\")"
   ]
  }
 ],
 "metadata": {
  "kernelspec": {
   "display_name": "Python 3",
   "language": "python",
   "name": "python3"
  },
  "language_info": {
   "codemirror_mode": {
    "name": "ipython",
    "version": 3
   },
   "file_extension": ".py",
   "mimetype": "text/x-python",
   "name": "python",
   "nbconvert_exporter": "python",
   "pygments_lexer": "ipython3",
   "version": "3.10.2"
  }
 },
 "nbformat": 4,
 "nbformat_minor": 2
}
